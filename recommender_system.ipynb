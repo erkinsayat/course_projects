{
  "cells": [
    {
      "cell_type": "markdown",
      "metadata": {
        "id": "O5DQ_OuahEZq"
      },
      "source": [
        "# Импорт библиотек"
      ]
    },
    {
      "cell_type": "code",
      "execution_count": null,
      "metadata": {
        "id": "ffQRicmTfRIf"
      },
      "outputs": [],
      "source": [
        "# Работа с данными\n",
        "import pandas as pd\n",
        "import numpy as np\n",
        "# Визуализация\n",
        "import matplotlib.pyplot as plt\n",
        "from matplotlib.backends.backend_agg import FigureCanvasAgg\n",
        "from matplotlib.transforms import Bbox\n",
        "import seaborn as sns\n",
        "palette = plt.get_cmap('Set2')\n",
        "plt.style.use('seaborn-darkgrid')\n",
        "# Алгоритмы ML\n",
        "from sklearn.neighbors import NearestNeighbors\n",
        "from sklearn.cluster import KMeans\n",
        "from sklearn.decomposition import PCA\n",
        "from sklearn.metrics.pairwise import euclidean_distances\n",
        "from sklearn.metrics import silhouette_score\n",
        "# Паралельные вычисления\n",
        "import asyncio\n",
        "import nest_asyncio\n",
        "nest_asyncio.apply()\n",
        "asyncio.set_event_loop(asyncio.new_event_loop())\n",
        "# Игнор предупреждений\n",
        "import warnings\n",
        "warnings.filterwarnings('ignore')"
      ]
    },
    {
      "cell_type": "code",
      "source": [
        "from google.colab import drive\n",
        "drive.mount('/content/drive')"
      ],
      "metadata": {
        "id": "dsWEeKqNxBIJ"
      },
      "execution_count": null,
      "outputs": []
    },
    {
      "cell_type": "markdown",
      "source": [
        "Данные можно скачать по ссылке:\n",
        "\n",
        "products: https://drive.google.com/file/d/1t9rE72jB6KcMZc8_jSGvkIeRhdYrksbu/view?usp=share_link\n",
        "\n",
        "transactions: https://drive.google.com/file/d/1_m5yIoxXrImRSi5UOLmWI5R8oFDCg1vp/view?usp=share_link"
      ],
      "metadata": {
        "id": "Yxi75Lsn02zY"
      }
    },
    {
      "cell_type": "code",
      "execution_count": null,
      "metadata": {
        "id": "J8Ah-zqeh1Qr"
      },
      "outputs": [],
      "source": [
        "# Импорт и разархивация сырых данных\n",
        "! 7z x /content/drive/MyDrive/graduate_work/recommender_system/products.csv.zip\n",
        "! 7z x /content/drive/MyDrive/graduate_work/recommender_system/transactions.csv.zip"
      ]
    },
    {
      "cell_type": "markdown",
      "metadata": {
        "id": "tZ1jDKR4vUIw"
      },
      "source": [
        "# Работа с данными"
      ]
    },
    {
      "cell_type": "markdown",
      "source": [
        "Откроем таблицы в формате DataFrame и для удобства объединим их"
      ],
      "metadata": {
        "id": "-T5UcUWdQmmb"
      }
    },
    {
      "cell_type": "code",
      "execution_count": null,
      "metadata": {
        "id": "RckQ2qoofWAG"
      },
      "outputs": [],
      "source": [
        "products = pd.read_csv('products.csv', sep = ',')\n",
        "trans = pd.read_csv('transactions.csv', sep = ',')\n",
        "\n",
        "df = trans.merge(products[['product_id', 'aisle_id', 'department_id']], on = 'product_id')"
      ]
    },
    {
      "cell_type": "markdown",
      "source": [
        "Понизим размерность числовых данных с 64 бит до 32"
      ],
      "metadata": {
        "id": "u3ewlek4Qzyg"
      }
    },
    {
      "cell_type": "code",
      "source": [
        "for col in df.columns: \n",
        "    if isinstance(df[col].iloc[0], np.int64):\n",
        "        df[col] = df[col].astype(np.int32)   \n",
        "    elif isinstance(df[col].iloc[0], np.float64):\n",
        "        df[col] = df[col].astype(np.float32)   \n",
        "    else:\n",
        "        continue"
      ],
      "metadata": {
        "id": "2KTqISHgQ-T0"
      },
      "execution_count": null,
      "outputs": []
    },
    {
      "cell_type": "markdown",
      "source": [
        "Поделим данные на тренеровочные и тестировочные для оффлан проверки метрики MAP@10\n",
        "\n",
        "Делить будем на основе записей покупок, так в тестировочной выборку будут только последнии покупки, а в тренеровочных все остальные"
      ],
      "metadata": {
        "id": "zPQuyXYORBMz"
      }
    },
    {
      "cell_type": "code",
      "execution_count": null,
      "metadata": {
        "id": "oMtTDJl0fie8"
      },
      "outputs": [],
      "source": [
        "df = df.merge(df.groupby('user_id')['order_number'].max().reset_index().rename(columns = {'order_number': 'last_order'}), on = 'user_id')\n",
        "df_train, df_test = df[~df['order_number'].eq(df['last_order'])], df[df['order_number'].eq(df['last_order'])]"
      ]
    },
    {
      "cell_type": "markdown",
      "source": [
        "Сохраним в формате CVS"
      ],
      "metadata": {
        "id": "PCMBerlIRl4v"
      }
    },
    {
      "cell_type": "code",
      "source": [
        "for data, file_name in zip((df, df_train, df_test), ('main_data','train', 'test')):\n",
        "    data.to_csv(f'{file_name}.csv', index=False)\n",
        "\n",
        "del df, df_train, df_test, data, products"
      ],
      "metadata": {
        "id": "dQs_MSvxReEo"
      },
      "execution_count": null,
      "outputs": []
    },
    {
      "cell_type": "markdown",
      "source": [
        "Используя агрегирование получим новые признаки для продуктов и соберем матрицу признаков"
      ],
      "metadata": {
        "id": "Tbh4zke_SLML"
      }
    },
    {
      "cell_type": "code",
      "execution_count": null,
      "metadata": {
        "colab": {
          "base_uri": "https://localhost:8080/",
          "height": 206
        },
        "id": "U5sPdN8TfqBc",
        "outputId": "8d1e7538-33d7-4c2e-d7aa-8845a8a8b406"
      },
      "outputs": [
        {
          "output_type": "execute_result",
          "data": {
            "text/plain": [
              "   product_id  aisle_id  department_id  n_users  median_dow  \\\n",
              "0           1        61             19      485         3.0   \n",
              "1           2       104             13       63         3.0   \n",
              "2           3        94              7       51         2.0   \n",
              "3           4        38              1      104         2.0   \n",
              "4           5         5             13        3         2.0   \n",
              "\n",
              "   median_hour_of_day  mean_days_between_orders  median_cart_position  \\\n",
              "0                13.0                  8.918789                   4.0   \n",
              "1                13.0                  9.647887                   9.0   \n",
              "2                11.0                  9.296460                   4.5   \n",
              "3                14.0                 12.566845                   8.0   \n",
              "4                11.0                 11.090909                   6.0   \n",
              "\n",
              "   total_reordered  \n",
              "0           1008.0  \n",
              "1             10.0  \n",
              "2            187.0  \n",
              "3             96.0  \n",
              "4              8.0  "
            ],
            "text/html": [
              "\n",
              "  <div id=\"df-3d41c7aa-fddb-4327-b713-95e2441ced10\">\n",
              "    <div class=\"colab-df-container\">\n",
              "      <div>\n",
              "<style scoped>\n",
              "    .dataframe tbody tr th:only-of-type {\n",
              "        vertical-align: middle;\n",
              "    }\n",
              "\n",
              "    .dataframe tbody tr th {\n",
              "        vertical-align: top;\n",
              "    }\n",
              "\n",
              "    .dataframe thead th {\n",
              "        text-align: right;\n",
              "    }\n",
              "</style>\n",
              "<table border=\"1\" class=\"dataframe\">\n",
              "  <thead>\n",
              "    <tr style=\"text-align: right;\">\n",
              "      <th></th>\n",
              "      <th>product_id</th>\n",
              "      <th>aisle_id</th>\n",
              "      <th>department_id</th>\n",
              "      <th>n_users</th>\n",
              "      <th>median_dow</th>\n",
              "      <th>median_hour_of_day</th>\n",
              "      <th>mean_days_between_orders</th>\n",
              "      <th>median_cart_position</th>\n",
              "      <th>total_reordered</th>\n",
              "    </tr>\n",
              "  </thead>\n",
              "  <tbody>\n",
              "    <tr>\n",
              "      <th>0</th>\n",
              "      <td>1</td>\n",
              "      <td>61</td>\n",
              "      <td>19</td>\n",
              "      <td>485</td>\n",
              "      <td>3.0</td>\n",
              "      <td>13.0</td>\n",
              "      <td>8.918789</td>\n",
              "      <td>4.0</td>\n",
              "      <td>1008.0</td>\n",
              "    </tr>\n",
              "    <tr>\n",
              "      <th>1</th>\n",
              "      <td>2</td>\n",
              "      <td>104</td>\n",
              "      <td>13</td>\n",
              "      <td>63</td>\n",
              "      <td>3.0</td>\n",
              "      <td>13.0</td>\n",
              "      <td>9.647887</td>\n",
              "      <td>9.0</td>\n",
              "      <td>10.0</td>\n",
              "    </tr>\n",
              "    <tr>\n",
              "      <th>2</th>\n",
              "      <td>3</td>\n",
              "      <td>94</td>\n",
              "      <td>7</td>\n",
              "      <td>51</td>\n",
              "      <td>2.0</td>\n",
              "      <td>11.0</td>\n",
              "      <td>9.296460</td>\n",
              "      <td>4.5</td>\n",
              "      <td>187.0</td>\n",
              "    </tr>\n",
              "    <tr>\n",
              "      <th>3</th>\n",
              "      <td>4</td>\n",
              "      <td>38</td>\n",
              "      <td>1</td>\n",
              "      <td>104</td>\n",
              "      <td>2.0</td>\n",
              "      <td>14.0</td>\n",
              "      <td>12.566845</td>\n",
              "      <td>8.0</td>\n",
              "      <td>96.0</td>\n",
              "    </tr>\n",
              "    <tr>\n",
              "      <th>4</th>\n",
              "      <td>5</td>\n",
              "      <td>5</td>\n",
              "      <td>13</td>\n",
              "      <td>3</td>\n",
              "      <td>2.0</td>\n",
              "      <td>11.0</td>\n",
              "      <td>11.090909</td>\n",
              "      <td>6.0</td>\n",
              "      <td>8.0</td>\n",
              "    </tr>\n",
              "  </tbody>\n",
              "</table>\n",
              "</div>\n",
              "      <button class=\"colab-df-convert\" onclick=\"convertToInteractive('df-3d41c7aa-fddb-4327-b713-95e2441ced10')\"\n",
              "              title=\"Convert this dataframe to an interactive table.\"\n",
              "              style=\"display:none;\">\n",
              "        \n",
              "  <svg xmlns=\"http://www.w3.org/2000/svg\" height=\"24px\"viewBox=\"0 0 24 24\"\n",
              "       width=\"24px\">\n",
              "    <path d=\"M0 0h24v24H0V0z\" fill=\"none\"/>\n",
              "    <path d=\"M18.56 5.44l.94 2.06.94-2.06 2.06-.94-2.06-.94-.94-2.06-.94 2.06-2.06.94zm-11 1L8.5 8.5l.94-2.06 2.06-.94-2.06-.94L8.5 2.5l-.94 2.06-2.06.94zm10 10l.94 2.06.94-2.06 2.06-.94-2.06-.94-.94-2.06-.94 2.06-2.06.94z\"/><path d=\"M17.41 7.96l-1.37-1.37c-.4-.4-.92-.59-1.43-.59-.52 0-1.04.2-1.43.59L10.3 9.45l-7.72 7.72c-.78.78-.78 2.05 0 2.83L4 21.41c.39.39.9.59 1.41.59.51 0 1.02-.2 1.41-.59l7.78-7.78 2.81-2.81c.8-.78.8-2.07 0-2.86zM5.41 20L4 18.59l7.72-7.72 1.47 1.35L5.41 20z\"/>\n",
              "  </svg>\n",
              "      </button>\n",
              "      \n",
              "  <style>\n",
              "    .colab-df-container {\n",
              "      display:flex;\n",
              "      flex-wrap:wrap;\n",
              "      gap: 12px;\n",
              "    }\n",
              "\n",
              "    .colab-df-convert {\n",
              "      background-color: #E8F0FE;\n",
              "      border: none;\n",
              "      border-radius: 50%;\n",
              "      cursor: pointer;\n",
              "      display: none;\n",
              "      fill: #1967D2;\n",
              "      height: 32px;\n",
              "      padding: 0 0 0 0;\n",
              "      width: 32px;\n",
              "    }\n",
              "\n",
              "    .colab-df-convert:hover {\n",
              "      background-color: #E2EBFA;\n",
              "      box-shadow: 0px 1px 2px rgba(60, 64, 67, 0.3), 0px 1px 3px 1px rgba(60, 64, 67, 0.15);\n",
              "      fill: #174EA6;\n",
              "    }\n",
              "\n",
              "    [theme=dark] .colab-df-convert {\n",
              "      background-color: #3B4455;\n",
              "      fill: #D2E3FC;\n",
              "    }\n",
              "\n",
              "    [theme=dark] .colab-df-convert:hover {\n",
              "      background-color: #434B5C;\n",
              "      box-shadow: 0px 1px 3px 1px rgba(0, 0, 0, 0.15);\n",
              "      filter: drop-shadow(0px 1px 2px rgba(0, 0, 0, 0.3));\n",
              "      fill: #FFFFFF;\n",
              "    }\n",
              "  </style>\n",
              "\n",
              "      <script>\n",
              "        const buttonEl =\n",
              "          document.querySelector('#df-3d41c7aa-fddb-4327-b713-95e2441ced10 button.colab-df-convert');\n",
              "        buttonEl.style.display =\n",
              "          google.colab.kernel.accessAllowed ? 'block' : 'none';\n",
              "\n",
              "        async function convertToInteractive(key) {\n",
              "          const element = document.querySelector('#df-3d41c7aa-fddb-4327-b713-95e2441ced10');\n",
              "          const dataTable =\n",
              "            await google.colab.kernel.invokeFunction('convertToInteractive',\n",
              "                                                     [key], {});\n",
              "          if (!dataTable) return;\n",
              "\n",
              "          const docLinkHtml = 'Like what you see? Visit the ' +\n",
              "            '<a target=\"_blank\" href=https://colab.research.google.com/notebooks/data_table.ipynb>data table notebook</a>'\n",
              "            + ' to learn more about interactive tables.';\n",
              "          element.innerHTML = '';\n",
              "          dataTable['output_type'] = 'display_data';\n",
              "          await google.colab.output.renderOutput(dataTable, element);\n",
              "          const docLink = document.createElement('div');\n",
              "          docLink.innerHTML = docLinkHtml;\n",
              "          element.appendChild(docLink);\n",
              "        }\n",
              "      </script>\n",
              "    </div>\n",
              "  </div>\n",
              "  "
            ]
          },
          "metadata": {},
          "execution_count": 8
        }
      ],
      "source": [
        "# Загрузим тренеровочный датафрейм\n",
        "df = pd.read_csv('train.csv')\n",
        "\n",
        "# Агрегируем данные\n",
        "df_agg = df.groupby(['product_id', 'aisle_id', 'department_id'])\\\n",
        "           .agg({\n",
        "                 'user_id': 'nunique' # Сколько человек купили продукт\n",
        "                ,'order_dow': 'median' # Медианный день недели покупки\n",
        "                ,'order_hour_of_day': 'median' # Медианное время покупки\n",
        "                ,'days_since_prior_order': 'mean' # Среднее между временем покупок\n",
        "                ,'add_to_cart_order': 'median' # Среднее по корзине\n",
        "                ,'reordered': 'sum' # Сумма повторных покупок\n",
        "        }).reset_index().rename(\n",
        "                            columns={\n",
        "                                 'user_id': 'n_users'\n",
        "                                ,'order_dow': 'median_dow'\n",
        "                                ,'order_hour_of_day': 'median_hour_of_day'\n",
        "                                ,'days_since_prior_order': 'mean_days_between_orders'\n",
        "                                ,'add_to_cart_order': 'median_cart_position'\n",
        "                                ,'reordered': 'total_reordered'})\n",
        "\n",
        "df_agg.head()"
      ]
    },
    {
      "cell_type": "code",
      "execution_count": null,
      "metadata": {
        "id": "azbLzONof1VF"
      },
      "outputs": [],
      "source": [
        "# Запишем продукты входящие в первую покупку (mean_days_between_orders = Nan)\n",
        "exceptions = df_agg[pd.isna(df_agg['mean_days_between_orders'])]['product_id'].values\n",
        "\n",
        "# Выделим категориальные данные\n",
        "num_cols = ['n_users', 'mean_days_between_orders', 'median_cart_position', 'total_reordered']\n",
        "cat_cols = ['aisle_id', 'department_id', 'median_dow', 'median_hour_of_day']\n",
        "for col in cat_cols:\n",
        "    df_agg[col] = df_agg[col].astype(np.int32).astype(str) # Категодиальные в строковые\n",
        "\n",
        "# Разделим на датафреймы подлежащие кластеризации и не подлежащие\n",
        "df_agg_main = df_agg[~df_agg['product_id'].isin(exceptions)]\n",
        "df_agg_exc = df_agg[df_agg['product_id'].isin(exceptions)]\n",
        "\n",
        "del df, df_agg"
      ]
    },
    {
      "cell_type": "code",
      "execution_count": null,
      "metadata": {
        "id": "9Jj4DG3xf1ec"
      },
      "outputs": [],
      "source": [
        "# Создадим матрицу признаков\n",
        "num_features = df_agg_main[num_cols]\n",
        "cat_features = pd.get_dummies(df_agg_main[cat_cols])\n",
        "\n",
        "cols = num_features.columns.tolist() + cat_features.columns.tolist()\n",
        "\n",
        "x = np.hstack([num_features.values.reshape(df_agg_main.shape[0], -1),\n",
        "               cat_features.values.reshape(df_agg_main.shape[0], -1)])\n",
        "\n",
        "del num_features, cat_features"
      ]
    },
    {
      "cell_type": "markdown",
      "metadata": {
        "id": "gOU_k58RE_GU"
      },
      "source": [
        "# Кластеризация данных"
      ]
    },
    {
      "cell_type": "markdown",
      "source": [
        "Найдем оптимальное кол-во кластеров для кашего спискаа продуктов"
      ],
      "metadata": {
        "id": "b_DxmTwETLGV"
      }
    },
    {
      "cell_type": "code",
      "execution_count": null,
      "metadata": {
        "colab": {
          "base_uri": "https://localhost:8080/",
          "height": 577
        },
        "id": "brm8-s9t7XFj",
        "outputId": "db3e57d8-9a86-48c9-b2e4-53b07430ea86"
      },
      "outputs": [
        {
          "output_type": "display_data",
          "data": {
            "text/plain": [
              "<Figure size 1200x600 with 1 Axes>"
            ],
            "image/png": "[encoded data removed]"
          },
          "metadata": {}
        }
      ],
      "source": [
        "k_limit = 10\n",
        "\n",
        "models = {key: None for key in range(1, k_limit + 1)}\n",
        "metrics = {key: None for key in range(1, k_limit + 1)}\n",
        "\n",
        "for k in range(1, k_limit + 1):\n",
        "    models[k] = KMeans(n_clusters=k, random_state=17).fit(x)\n",
        "    centroids, labels = models[k].cluster_centers_, models[k].labels_\n",
        "    \n",
        "    metric = 0\n",
        "    for centroid in range(k):\n",
        "        metric += euclidean_distances(x[labels==centroid], centroids[centroid,:].reshape(1, -1)).sum(axis=0)[0]\n",
        "    \n",
        "    metrics[k] = metric\n",
        "    \n",
        "D = {k: abs(metrics.get(k + 1, 0) - metrics[k]) / abs(metrics[k]- metrics.get(k - 1, 0)) for k in range(2, k_limit + 1)}\n",
        "\n",
        "best_k = min(D.items(), key=lambda x: x[1])[0]\n",
        "\n",
        "\n",
        "# Визуализируем\n",
        "plt.figure(figsize = (12, 6))\n",
        "\n",
        "x_ = np.arange(1, 11)\n",
        "y_ = [v for k, v in metrics.items()]\n",
        "\n",
        "plt.plot(x_, y_)\n",
        "plt.scatter(x_, y_, color = 'red')\n",
        "plt.scatter(x_[5], y_[5], color = 'green', s = 100)\n",
        "\n",
        "plt.title(f'Оптимальное кол-во кластеров: {best_k}', pad = 20)\n",
        "plt.ylabel('Качество метрики')\n",
        "plt.xlabel('Класстера')\n",
        "plt.show()"
      ]
    },
    {
      "cell_type": "markdown",
      "source": [
        "Используя лучшую модель кластеризируем данные и добавим новую колонку с класерами для каждого продукта"
      ],
      "metadata": {
        "id": "7Eh8jmdKTUnV"
      }
    },
    {
      "cell_type": "code",
      "execution_count": null,
      "metadata": {
        "colab": {
          "base_uri": "https://localhost:8080/"
        },
        "id": "DkdN5GklgC2j",
        "outputId": "46188d63-03c3-4905-b373-14114053148b"
      },
      "outputs": [
        {
          "output_type": "stream",
          "name": "stdout",
          "text": [
            "Метрика по силуету: 0.920\n"
          ]
        }
      ],
      "source": [
        "# Инициализируем лучшую модель\n",
        "best_model = models[best_k]\n",
        "\n",
        "# Расчитаем метрику\n",
        "score = silhouette_score(x, best_model.labels_)\n",
        "print(f'Метрика по силуету: {score:.3f}')\n",
        "\n",
        "# Добавим в датафрейм кластера продуктов\n",
        "df_agg_main['Cluster'] = best_model.labels_\n",
        "\n",
        "# Сохраним центроиды\n",
        "centroids = pd.DataFrame(data={col: cluster for col, cluster in zip(cols, best_model.cluster_centers_.T)}, \n",
        "                         index=range(df_agg_main['Cluster'].nunique()))"
      ]
    },
    {
      "cell_type": "markdown",
      "source": [
        "Визуализируем кластеризированные данные понизив размернось признаков до двух"
      ],
      "metadata": {
        "id": "Aq4a7ZPsVFdF"
      }
    },
    {
      "cell_type": "code",
      "execution_count": null,
      "metadata": {
        "colab": {
          "base_uri": "https://localhost:8080/",
          "height": 517
        },
        "id": "kgl4qWI8gDe2",
        "outputId": "2a93cfe5-636d-4316-f048-81f832ed10fc"
      },
      "outputs": [
        {
          "output_type": "display_data",
          "data": {
            "text/plain": [
              "<Figure size 1200x600 with 1 Axes>"
            ],
            "image/png": "[encoded data removed]"
          },
          "metadata": {}
        }
      ],
      "source": [
        "# Приведем данные в двумерный массив\n",
        "pca = PCA(n_components=2).fit(x)\n",
        "x_pca = pca.transform(x)\n",
        "centroids_pca = pca.transform(centroids.values)\n",
        "\n",
        "# Визуализируем\n",
        "fig, ax = plt.subplots(figsize=(12, 6))\n",
        "\n",
        "sns.scatterplot(x = x_pca[:, 0], y = x_pca[:, 1], hue = best_model.labels_,\n",
        "                alpha = 0.8, palette = 'viridis_r', edgecolor = 'black', linewidth = .8, size = best_model.labels_, sizes = (50, 50), ax = ax)\n",
        "\n",
        "\n",
        "sns.scatterplot(x = centroids_pca[:, 0], y = centroids_pca[:, 1], \n",
        "                color = 'red', label = 'Centroid', linewidth = 1.0, marker = 'x', s=150, ax = ax)\n",
        "\n",
        "ax.legend(loc=1, bbox_to_anchor=(1.2, 1), fontsize=12)\n",
        "ax.legend_.set_title('Cluster')\n",
        "ax.legend_.get_title().set_fontsize(13)\n",
        "\n",
        "plt.show()"
      ]
    },
    {
      "cell_type": "markdown",
      "metadata": {
        "id": "oG5Mt8RYFwdz"
      },
      "source": [
        "# Финальная подготовка эмбеддингов"
      ]
    },
    {
      "cell_type": "code",
      "execution_count": null,
      "metadata": {
        "id": "XVpjPYYZgDnh"
      },
      "outputs": [],
      "source": [
        "# Добавим отдельный кластер для исключений\n",
        "df_agg_exc['Cluster'] = -1\n",
        "\n",
        "# Собираем общий датафрейм с ембеддингами\n",
        "prod_emb = (pd.concat([df_agg_main, df_agg_exc], ignore_index=True)).reset_index().assign(indx=lambda x: x.index)\n",
        "\n",
        "prod_emb = prod_emb[['indx', 'product_id'] + num_cols]\\\n",
        "                                                .join(pd.get_dummies(prod_emb[cat_cols]))\\\n",
        "                                                .join(pd.get_dummies(prod_emb['Cluster']))\n",
        "\n",
        "prod_emb.to_csv('product_embedding.csv', index=False)\n",
        "\n",
        "del x, df_agg_main, df_agg_exc, prod_emb"
      ]
    },
    {
      "cell_type": "markdown",
      "metadata": {
        "id": "Z-JKSzlXF6FQ"
      },
      "source": [
        "# Поиск соседей для продуктов"
      ]
    },
    {
      "cell_type": "code",
      "execution_count": null,
      "metadata": {
        "id": "4WritNmFgDxA"
      },
      "outputs": [],
      "source": [
        "# Загрузим датафрейм с эмбеддинами\n",
        "prod_emb = pd.read_csv('product_embedding.csv')"
      ]
    },
    {
      "cell_type": "markdown",
      "source": [
        "Используя агоритм NearestNeighbors из библиотеки sklearn обучим его и получим 10 ближайших соседей для каждого продукта"
      ],
      "metadata": {
        "id": "pA2vB1hCVkdN"
      }
    },
    {
      "cell_type": "code",
      "execution_count": null,
      "metadata": {
        "id": "s7QoQel5gD5M"
      },
      "outputs": [],
      "source": [
        "# Обучаем алгоритм NearestNeighbors\n",
        "emb_cols = prod_emb.columns[2:]\n",
        "prod_emb.fillna(prod_emb['mean_days_between_orders'].median(), inplace=True)\n",
        "\n",
        "neigh = NearestNeighbors(n_jobs=-1, metric='euclidean').fit(prod_emb[emb_cols].values)"
      ]
    },
    {
      "cell_type": "code",
      "execution_count": null,
      "metadata": {
        "colab": {
          "base_uri": "https://localhost:8080/"
        },
        "id": "VFwDJBoIgjKp",
        "outputId": "7344b9b6-3439-4b49-8018-61f33e98f5f4"
      },
      "outputs": [
        {
          "output_type": "stream",
          "name": "stdout",
          "text": [
            "CPU times: user 40min 7s, sys: 8.73 s, total: 40min 15s\n",
            "Wall time: 25min 25s\n"
          ]
        }
      ],
      "source": [
        "%%time\n",
        "\n",
        "# Собираем топ 10 соседей для каждого продукта\n",
        "\n",
        "tmp_res_list = []\n",
        "\n",
        "async def knn(prod_id:int, k:int=10):\n",
        "    \n",
        "    neighbors = neigh.kneighbors(\n",
        "                             prod_emb[prod_emb['product_id'].eq(prod_id)][emb_cols].values\n",
        "                            ,n_neighbors=k\n",
        "                            ) \n",
        "    tmp = pd.DataFrame({\n",
        "                     'product_id_x': [prod_id] * k\n",
        "                    ,'indx': neighbors[1][0]\n",
        "                    ,'Metric': neighbors[0][0]\n",
        "            \n",
        "        })   \n",
        "    tmp_res_list.append(tmp)\n",
        "    \n",
        "async def main(k:int=10):\n",
        "\n",
        "    tasks = [asyncio.create_task(knn(prod, k)) for prod in prod_emb['product_id'].values]\n",
        "\n",
        "    await asyncio.gather(*tasks)\n",
        "\n",
        "loop = asyncio.get_event_loop()\n",
        "loop.run_until_complete(main(10))\n",
        "\n",
        "loop.run_until_complete(loop.shutdown_asyncgens())\n",
        "    \n",
        "prod_knn_df = pd.DataFrame()\n",
        "for elem in tmp_res_list:\n",
        "    prod_knn_df = pd.concat([prod_knn_df, elem], ignore_index=True)\n",
        "\n",
        "prod_knn_df.to_csv(f'product_knn_{10}.csv', index=False)\n",
        "    \n",
        "del tmp_res_list, prod_knn_df\n",
        "    \n",
        "asyncio.set_event_loop(asyncio.new_event_loop())"
      ]
    },
    {
      "cell_type": "markdown",
      "source": [
        "# Обработка пользователей"
      ],
      "metadata": {
        "id": "uMGGYPZ8d5h8"
      }
    },
    {
      "cell_type": "code",
      "execution_count": null,
      "metadata": {
        "id": "8dJiZgZCgjxE"
      },
      "outputs": [],
      "source": [
        "# Выгружаем датафреймы\n",
        "df_train = pd.read_csv('train.csv')\n",
        "df_test = pd.read_csv('test.csv')\n",
        "# Получаем список покупателей\n",
        "users = np.sort(df_train ['user_id'].unique())"
      ]
    },
    {
      "cell_type": "code",
      "execution_count": null,
      "metadata": {
        "colab": {
          "base_uri": "https://localhost:8080/",
          "height": 394
        },
        "id": "BUbkVQz2gj7o",
        "outputId": "ba9b9001-c2fd-4ba2-f082-2cb360bf2b4b"
      },
      "outputs": [
        {
          "output_type": "execute_result",
          "data": {
            "text/plain": [
              "           user_id  product_id  weight\n",
              "user_id                               \n",
              "1       0        1         196       9\n",
              "        1        1       12427       9\n",
              "        2        1       10258       8\n",
              "        3        1       25133       7\n",
              "        4        1       13032       2\n",
              "        5        1       13176       2\n",
              "        6        1       26088       2\n",
              "        7        1       26405       2\n",
              "        8        1       46149       2\n",
              "        9        1       49235       2"
            ],
            "text/html": [
              "\n",
              "  <div id=\"df-c4186555-f6ee-426f-acf3-e65ef9e6e3bd\">\n",
              "    <div class=\"colab-df-container\">\n",
              "      <div>\n",
              "<style scoped>\n",
              "    .dataframe tbody tr th:only-of-type {\n",
              "        vertical-align: middle;\n",
              "    }\n",
              "\n",
              "    .dataframe tbody tr th {\n",
              "        vertical-align: top;\n",
              "    }\n",
              "\n",
              "    .dataframe thead th {\n",
              "        text-align: right;\n",
              "    }\n",
              "</style>\n",
              "<table border=\"1\" class=\"dataframe\">\n",
              "  <thead>\n",
              "    <tr style=\"text-align: right;\">\n",
              "      <th></th>\n",
              "      <th></th>\n",
              "      <th>user_id</th>\n",
              "      <th>product_id</th>\n",
              "      <th>weight</th>\n",
              "    </tr>\n",
              "    <tr>\n",
              "      <th>user_id</th>\n",
              "      <th></th>\n",
              "      <th></th>\n",
              "      <th></th>\n",
              "      <th></th>\n",
              "    </tr>\n",
              "  </thead>\n",
              "  <tbody>\n",
              "    <tr>\n",
              "      <th rowspan=\"10\" valign=\"top\">1</th>\n",
              "      <th>0</th>\n",
              "      <td>1</td>\n",
              "      <td>196</td>\n",
              "      <td>9</td>\n",
              "    </tr>\n",
              "    <tr>\n",
              "      <th>1</th>\n",
              "      <td>1</td>\n",
              "      <td>12427</td>\n",
              "      <td>9</td>\n",
              "    </tr>\n",
              "    <tr>\n",
              "      <th>2</th>\n",
              "      <td>1</td>\n",
              "      <td>10258</td>\n",
              "      <td>8</td>\n",
              "    </tr>\n",
              "    <tr>\n",
              "      <th>3</th>\n",
              "      <td>1</td>\n",
              "      <td>25133</td>\n",
              "      <td>7</td>\n",
              "    </tr>\n",
              "    <tr>\n",
              "      <th>4</th>\n",
              "      <td>1</td>\n",
              "      <td>13032</td>\n",
              "      <td>2</td>\n",
              "    </tr>\n",
              "    <tr>\n",
              "      <th>5</th>\n",
              "      <td>1</td>\n",
              "      <td>13176</td>\n",
              "      <td>2</td>\n",
              "    </tr>\n",
              "    <tr>\n",
              "      <th>6</th>\n",
              "      <td>1</td>\n",
              "      <td>26088</td>\n",
              "      <td>2</td>\n",
              "    </tr>\n",
              "    <tr>\n",
              "      <th>7</th>\n",
              "      <td>1</td>\n",
              "      <td>26405</td>\n",
              "      <td>2</td>\n",
              "    </tr>\n",
              "    <tr>\n",
              "      <th>8</th>\n",
              "      <td>1</td>\n",
              "      <td>46149</td>\n",
              "      <td>2</td>\n",
              "    </tr>\n",
              "    <tr>\n",
              "      <th>9</th>\n",
              "      <td>1</td>\n",
              "      <td>49235</td>\n",
              "      <td>2</td>\n",
              "    </tr>\n",
              "  </tbody>\n",
              "</table>\n",
              "</div>\n",
              "      <button class=\"colab-df-convert\" onclick=\"convertToInteractive('df-c4186555-f6ee-426f-acf3-e65ef9e6e3bd')\"\n",
              "              title=\"Convert this dataframe to an interactive table.\"\n",
              "              style=\"display:none;\">\n",
              "        \n",
              "  <svg xmlns=\"http://www.w3.org/2000/svg\" height=\"24px\"viewBox=\"0 0 24 24\"\n",
              "       width=\"24px\">\n",
              "    <path d=\"M0 0h24v24H0V0z\" fill=\"none\"/>\n",
              "    <path d=\"M18.56 5.44l.94 2.06.94-2.06 2.06-.94-2.06-.94-.94-2.06-.94 2.06-2.06.94zm-11 1L8.5 8.5l.94-2.06 2.06-.94-2.06-.94L8.5 2.5l-.94 2.06-2.06.94zm10 10l.94 2.06.94-2.06 2.06-.94-2.06-.94-.94-2.06-.94 2.06-2.06.94z\"/><path d=\"M17.41 7.96l-1.37-1.37c-.4-.4-.92-.59-1.43-.59-.52 0-1.04.2-1.43.59L10.3 9.45l-7.72 7.72c-.78.78-.78 2.05 0 2.83L4 21.41c.39.39.9.59 1.41.59.51 0 1.02-.2 1.41-.59l7.78-7.78 2.81-2.81c.8-.78.8-2.07 0-2.86zM5.41 20L4 18.59l7.72-7.72 1.47 1.35L5.41 20z\"/>\n",
              "  </svg>\n",
              "      </button>\n",
              "      \n",
              "  <style>\n",
              "    .colab-df-container {\n",
              "      display:flex;\n",
              "      flex-wrap:wrap;\n",
              "      gap: 12px;\n",
              "    }\n",
              "\n",
              "    .colab-df-convert {\n",
              "      background-color: #E8F0FE;\n",
              "      border: none;\n",
              "      border-radius: 50%;\n",
              "      cursor: pointer;\n",
              "      display: none;\n",
              "      fill: #1967D2;\n",
              "      height: 32px;\n",
              "      padding: 0 0 0 0;\n",
              "      width: 32px;\n",
              "    }\n",
              "\n",
              "    .colab-df-convert:hover {\n",
              "      background-color: #E2EBFA;\n",
              "      box-shadow: 0px 1px 2px rgba(60, 64, 67, 0.3), 0px 1px 3px 1px rgba(60, 64, 67, 0.15);\n",
              "      fill: #174EA6;\n",
              "    }\n",
              "\n",
              "    [theme=dark] .colab-df-convert {\n",
              "      background-color: #3B4455;\n",
              "      fill: #D2E3FC;\n",
              "    }\n",
              "\n",
              "    [theme=dark] .colab-df-convert:hover {\n",
              "      background-color: #434B5C;\n",
              "      box-shadow: 0px 1px 3px 1px rgba(0, 0, 0, 0.15);\n",
              "      filter: drop-shadow(0px 1px 2px rgba(0, 0, 0, 0.3));\n",
              "      fill: #FFFFFF;\n",
              "    }\n",
              "  </style>\n",
              "\n",
              "      <script>\n",
              "        const buttonEl =\n",
              "          document.querySelector('#df-c4186555-f6ee-426f-acf3-e65ef9e6e3bd button.colab-df-convert');\n",
              "        buttonEl.style.display =\n",
              "          google.colab.kernel.accessAllowed ? 'block' : 'none';\n",
              "\n",
              "        async function convertToInteractive(key) {\n",
              "          const element = document.querySelector('#df-c4186555-f6ee-426f-acf3-e65ef9e6e3bd');\n",
              "          const dataTable =\n",
              "            await google.colab.kernel.invokeFunction('convertToInteractive',\n",
              "                                                     [key], {});\n",
              "          if (!dataTable) return;\n",
              "\n",
              "          const docLinkHtml = 'Like what you see? Visit the ' +\n",
              "            '<a target=\"_blank\" href=https://colab.research.google.com/notebooks/data_table.ipynb>data table notebook</a>'\n",
              "            + ' to learn more about interactive tables.';\n",
              "          element.innerHTML = '';\n",
              "          dataTable['output_type'] = 'display_data';\n",
              "          await google.colab.output.renderOutput(dataTable, element);\n",
              "          const docLink = document.createElement('div');\n",
              "          docLink.innerHTML = docLinkHtml;\n",
              "          element.appendChild(docLink);\n",
              "        }\n",
              "      </script>\n",
              "    </div>\n",
              "  </div>\n",
              "  "
            ]
          },
          "metadata": {},
          "execution_count": 3
        }
      ],
      "source": [
        "# Агрегируем данные по транзакциям\n",
        "user_ex = df_train[df_train['user_id'].eq(1)].assign(dummy=1)\\\n",
        "                                             .groupby(['user_id', 'product_id'])\\\n",
        "                                             .agg({'dummy': 'sum'})\\\n",
        "                                             .assign(weight=lambda x: x.dummy )\\\n",
        "                                             .sort_values(['user_id', 'weight'], ascending=False)\\\n",
        "                                             .reset_index()\\\n",
        "                                             .groupby('user_id')\\\n",
        "                                             .apply(lambda x: x.iloc[: 10])[['user_id', 'product_id', 'weight']]\n",
        "\n",
        "user_ex"
      ]
    },
    {
      "cell_type": "code",
      "execution_count": null,
      "metadata": {
        "colab": {
          "base_uri": "https://localhost:8080/",
          "height": 206
        },
        "id": "RLVgvaAzgkES",
        "outputId": "7c23efac-965a-48af-d123-fb94d9d9f49b"
      },
      "outputs": [
        {
          "output_type": "execute_result",
          "data": {
            "text/plain": [
              "   product_id  product_id_y     Metric\n",
              "0           1             1   0.000000\n",
              "1        1804             1  25.885248\n",
              "2        8381             1  13.245820\n",
              "3       13447             1   6.222959\n",
              "4       20906             1  15.544019"
            ],
            "text/html": [
              "\n",
              "  <div id=\"df-8521cb5e-6a5a-44e0-85bb-220017b0d627\">\n",
              "    <div class=\"colab-df-container\">\n",
              "      <div>\n",
              "<style scoped>\n",
              "    .dataframe tbody tr th:only-of-type {\n",
              "        vertical-align: middle;\n",
              "    }\n",
              "\n",
              "    .dataframe tbody tr th {\n",
              "        vertical-align: top;\n",
              "    }\n",
              "\n",
              "    .dataframe thead th {\n",
              "        text-align: right;\n",
              "    }\n",
              "</style>\n",
              "<table border=\"1\" class=\"dataframe\">\n",
              "  <thead>\n",
              "    <tr style=\"text-align: right;\">\n",
              "      <th></th>\n",
              "      <th>product_id</th>\n",
              "      <th>product_id_y</th>\n",
              "      <th>Metric</th>\n",
              "    </tr>\n",
              "  </thead>\n",
              "  <tbody>\n",
              "    <tr>\n",
              "      <th>0</th>\n",
              "      <td>1</td>\n",
              "      <td>1</td>\n",
              "      <td>0.000000</td>\n",
              "    </tr>\n",
              "    <tr>\n",
              "      <th>1</th>\n",
              "      <td>1804</td>\n",
              "      <td>1</td>\n",
              "      <td>25.885248</td>\n",
              "    </tr>\n",
              "    <tr>\n",
              "      <th>2</th>\n",
              "      <td>8381</td>\n",
              "      <td>1</td>\n",
              "      <td>13.245820</td>\n",
              "    </tr>\n",
              "    <tr>\n",
              "      <th>3</th>\n",
              "      <td>13447</td>\n",
              "      <td>1</td>\n",
              "      <td>6.222959</td>\n",
              "    </tr>\n",
              "    <tr>\n",
              "      <th>4</th>\n",
              "      <td>20906</td>\n",
              "      <td>1</td>\n",
              "      <td>15.544019</td>\n",
              "    </tr>\n",
              "  </tbody>\n",
              "</table>\n",
              "</div>\n",
              "      <button class=\"colab-df-convert\" onclick=\"convertToInteractive('df-8521cb5e-6a5a-44e0-85bb-220017b0d627')\"\n",
              "              title=\"Convert this dataframe to an interactive table.\"\n",
              "              style=\"display:none;\">\n",
              "        \n",
              "  <svg xmlns=\"http://www.w3.org/2000/svg\" height=\"24px\"viewBox=\"0 0 24 24\"\n",
              "       width=\"24px\">\n",
              "    <path d=\"M0 0h24v24H0V0z\" fill=\"none\"/>\n",
              "    <path d=\"M18.56 5.44l.94 2.06.94-2.06 2.06-.94-2.06-.94-.94-2.06-.94 2.06-2.06.94zm-11 1L8.5 8.5l.94-2.06 2.06-.94-2.06-.94L8.5 2.5l-.94 2.06-2.06.94zm10 10l.94 2.06.94-2.06 2.06-.94-2.06-.94-.94-2.06-.94 2.06-2.06.94z\"/><path d=\"M17.41 7.96l-1.37-1.37c-.4-.4-.92-.59-1.43-.59-.52 0-1.04.2-1.43.59L10.3 9.45l-7.72 7.72c-.78.78-.78 2.05 0 2.83L4 21.41c.39.39.9.59 1.41.59.51 0 1.02-.2 1.41-.59l7.78-7.78 2.81-2.81c.8-.78.8-2.07 0-2.86zM5.41 20L4 18.59l7.72-7.72 1.47 1.35L5.41 20z\"/>\n",
              "  </svg>\n",
              "      </button>\n",
              "      \n",
              "  <style>\n",
              "    .colab-df-container {\n",
              "      display:flex;\n",
              "      flex-wrap:wrap;\n",
              "      gap: 12px;\n",
              "    }\n",
              "\n",
              "    .colab-df-convert {\n",
              "      background-color: #E8F0FE;\n",
              "      border: none;\n",
              "      border-radius: 50%;\n",
              "      cursor: pointer;\n",
              "      display: none;\n",
              "      fill: #1967D2;\n",
              "      height: 32px;\n",
              "      padding: 0 0 0 0;\n",
              "      width: 32px;\n",
              "    }\n",
              "\n",
              "    .colab-df-convert:hover {\n",
              "      background-color: #E2EBFA;\n",
              "      box-shadow: 0px 1px 2px rgba(60, 64, 67, 0.3), 0px 1px 3px 1px rgba(60, 64, 67, 0.15);\n",
              "      fill: #174EA6;\n",
              "    }\n",
              "\n",
              "    [theme=dark] .colab-df-convert {\n",
              "      background-color: #3B4455;\n",
              "      fill: #D2E3FC;\n",
              "    }\n",
              "\n",
              "    [theme=dark] .colab-df-convert:hover {\n",
              "      background-color: #434B5C;\n",
              "      box-shadow: 0px 1px 3px 1px rgba(0, 0, 0, 0.15);\n",
              "      filter: drop-shadow(0px 1px 2px rgba(0, 0, 0, 0.3));\n",
              "      fill: #FFFFFF;\n",
              "    }\n",
              "  </style>\n",
              "\n",
              "      <script>\n",
              "        const buttonEl =\n",
              "          document.querySelector('#df-8521cb5e-6a5a-44e0-85bb-220017b0d627 button.colab-df-convert');\n",
              "        buttonEl.style.display =\n",
              "          google.colab.kernel.accessAllowed ? 'block' : 'none';\n",
              "\n",
              "        async function convertToInteractive(key) {\n",
              "          const element = document.querySelector('#df-8521cb5e-6a5a-44e0-85bb-220017b0d627');\n",
              "          const dataTable =\n",
              "            await google.colab.kernel.invokeFunction('convertToInteractive',\n",
              "                                                     [key], {});\n",
              "          if (!dataTable) return;\n",
              "\n",
              "          const docLinkHtml = 'Like what you see? Visit the ' +\n",
              "            '<a target=\"_blank\" href=https://colab.research.google.com/notebooks/data_table.ipynb>data table notebook</a>'\n",
              "            + ' to learn more about interactive tables.';\n",
              "          element.innerHTML = '';\n",
              "          dataTable['output_type'] = 'display_data';\n",
              "          await google.colab.output.renderOutput(dataTable, element);\n",
              "          const docLink = document.createElement('div');\n",
              "          docLink.innerHTML = docLinkHtml;\n",
              "          element.appendChild(docLink);\n",
              "        }\n",
              "      </script>\n",
              "    </div>\n",
              "  </div>\n",
              "  "
            ]
          },
          "metadata": {},
          "execution_count": 7
        }
      ],
      "source": [
        "# С помощью ранее записанного файла с соседями для продукта находим для каждого топ 10 соседей\n",
        "\n",
        "knn_ex = pd.read_csv(f'product_knn_{10}.csv')   \n",
        "knn_ex = knn_ex.merge(prod_emb, on='indx')[['product_id_x', 'product_id', 'Metric']]\\\n",
        "                                        .rename(columns={'product_id_x': 'product_id', 'product_id': 'product_id_y'})\n",
        "\n",
        "knn_ex.head()"
      ]
    },
    {
      "cell_type": "markdown",
      "source": [
        "# Финальная подборка рекомендаций"
      ],
      "metadata": {
        "id": "m5l2dzT3p6n4"
      }
    },
    {
      "cell_type": "code",
      "execution_count": null,
      "metadata": {
        "id": "ZJNI9_pKgkL2"
      },
      "outputs": [],
      "source": [
        "# С помощью метода взвешенного растояния находим топ 10 товаров для каждого пользователя\n",
        "\n",
        "out = user_ex.merge(knn_ex, on='product_id')[['user_id', 'product_id', 'weight', 'product_id_y', 'Metric']]\n",
        "    \n",
        "out['Metric'] = (out['Metric'] + 1) / out['weight']\n",
        "        \n",
        "out = out.sort_values(['user_id', 'Metric'], ascending=True)\\\n",
        "                                            .reset_index()\\\n",
        "                                            .groupby('user_id')\\\n",
        "                                            .apply(lambda x: x.iloc[: 10])\\\n",
        "                                            .rename(columns={'user_id': 'user_id_y'})\\\n",
        "                                            .groupby('user_id_y')['product_id_y'].agg(list).values"
      ]
    },
    {
      "cell_type": "code",
      "execution_count": null,
      "metadata": {
        "id": "rVIOs-7Dgtge"
      },
      "outputs": [],
      "source": [
        "def get_users_history(data:pd.DataFrame, users:(list, np.ndarray), k:int=10) -> pd.DataFrame:\n",
        "    \n",
        "    \"\"\" Возвращает топ 10 товаров для каждого покупателя на основе историй покупок сортируя их \"\"\"\n",
        "    \n",
        "    out = data[data['user_id'].isin(users,)].assign(dummy=1)\\\n",
        "                                            .groupby(['user_id', 'product_id'])\\\n",
        "                                            .agg({'dummy': 'sum'})\\\n",
        "                                            .assign(weight=lambda x: x.dummy )\\\n",
        "                                            .sort_values(['user_id', 'weight'], ascending=False)\\\n",
        "                                            .reset_index()\\\n",
        "                                            .groupby('user_id')\\\n",
        "                                            .apply(lambda x: x.iloc[: k])[['user_id', 'product_id', 'weight']]\n",
        "    \n",
        "    return out\n",
        "\n",
        "##############################################################\n",
        "\n",
        "def get_products_neighbors(k:int=10) -> pd.DataFrame:\n",
        "    \n",
        "    \"\"\" Возвращает датафрейм с 10 соседями для каждого продукта \"\"\"\n",
        "    \n",
        "    out = pd.read_csv(f'product_knn_{k}.csv')   \n",
        "    out = out.merge(prod_emb, on='indx')[['product_id_x', 'product_id', 'Metric']]\\\n",
        "                                        .rename(columns={'product_id_x': 'product_id', 'product_id': 'product_id_y'})\n",
        "    \n",
        "    return out\n",
        "\n",
        "##############################################################\n",
        "\n",
        "def predict(data:pd.DataFrame, users:(list, np.ndarray), k:int=10) -> pd.Series:\n",
        "    \n",
        "    \"\"\" Возвращает топ 10 рекомендаций для каждого покупателя \"\"\"\n",
        "    \n",
        "    user_hist = get_users_history(data=data, users=users, k=k)  \n",
        "    prod_neigh = get_products_neighbors(k=k)\n",
        "    \n",
        "    out = user_hist.merge(prod_neigh, on='product_id')[['user_id', 'product_id', 'weight', 'product_id_y', 'Metric']]\n",
        "    \n",
        "    out['Metric'] = (out['Metric'] + 1) / out['weight']\n",
        "        \n",
        "    out = out.sort_values(['user_id', 'Metric'], ascending=True)\\\n",
        "                                            .reset_index()\\\n",
        "                                            .groupby('user_id')\\\n",
        "                                            .apply(lambda x: x.iloc[: k])\\\n",
        "                                            .rename(columns={'user_id': 'user_id_y'})\\\n",
        "                                            .groupby('user_id_y')['product_id_y'].agg(list)\n",
        "    \n",
        "    return out\n",
        "\n",
        "################################################################\n",
        "\n",
        "# Evaluation metric\n",
        "\n",
        "def precision(arr1:(list, np.ndarray), arr2:(list, np.ndarray), n:int=10) -> float:\n",
        "    \n",
        "    \"\"\" Returns Precision@n score for two arrays \"\"\"\n",
        "    \n",
        "    assert isinstance(arr1, (list, np.ndarray)) * isinstance(arr2, (list, np.ndarray)), 'Wrong type of input!'\n",
        "    \n",
        "    return len(set(arr1) & set(arr2)) / n"
      ]
    },
    {
      "cell_type": "markdown",
      "source": [
        "# Для Kaggle"
      ],
      "metadata": {
        "id": "etLNyRQttML0"
      }
    },
    {
      "cell_type": "code",
      "execution_count": null,
      "metadata": {
        "colab": {
          "base_uri": "https://localhost:8080/"
        },
        "id": "xaTpXWFTg1g3",
        "outputId": "466da87f-1614-4111-ab3f-ba09b018451a"
      },
      "outputs": [
        {
          "output_type": "stream",
          "name": "stdout",
          "text": [
            "CPU times: user 1min 48s, sys: 9.08 s, total: 1min 57s\n",
            "Wall time: 2min 4s\n"
          ]
        }
      ],
      "source": [
        "%%time\n",
        "\n",
        "# Собираем список для Kaggle\n",
        "result = pd.DataFrame(predict(df_train, users))\n",
        "result = result.reset_index().rename(columns = {'user_id_y' : 'user_id', 'product_id_y' : 'product_id'})"
      ]
    },
    {
      "cell_type": "code",
      "source": [
        "predict = result.product_id.to_list()\n",
        "\n",
        "str_pred = []\n",
        "for pred in predict:\n",
        "  str_pred.append((' '.join([str(id) for id in pred])))\n",
        "\n",
        "result['product_id'] = str_pred\n",
        "result.to_csv('result.csv', index = False)"
      ],
      "metadata": {
        "id": "zK_Yzy9HrElB"
      },
      "execution_count": null,
      "outputs": []
    },
    {
      "cell_type": "markdown",
      "source": [
        "Метрика на Kaggle дала точность в 0.26 по MAP@10"
      ],
      "metadata": {
        "id": "W_760WssV913"
      }
    },
    {
      "cell_type": "markdown",
      "source": [
        "### Оффлайн"
      ],
      "metadata": {
        "id": "D7UR20_xtPD4"
      }
    },
    {
      "cell_type": "code",
      "execution_count": null,
      "metadata": {
        "colab": {
          "base_uri": "https://localhost:8080/"
        },
        "id": "LrURMCSpg1kX",
        "outputId": "680d2871-f3c8-4b99-acdd-2707cb94f948"
      },
      "outputs": [
        {
          "output_type": "stream",
          "name": "stdout",
          "text": [
            "MAP@n score: 0.291\n"
          ]
        }
      ],
      "source": [
        "# Считаем оффлайн меторику\n",
        "res = []\n",
        "for user, arr1 in zip(pred.index, pred.values):\n",
        "    arr2 = df_test[df_test['user_id'].eq(user)]['product_id'].values\n",
        "    res.append(precision(arr1, arr2))\n",
        "    \n",
        "res = np.mean(res)\n",
        "print(f'MAP@n score: {res:.3f}')"
      ]
    }
  ],
  "metadata": {
    "colab": {
      "provenance": []
    },
    "kernelspec": {
      "display_name": "Python 3",
      "name": "python3"
    },
    "language_info": {
      "name": "python"
    }
  },
  "nbformat": 4,
  "nbformat_minor": 0
}